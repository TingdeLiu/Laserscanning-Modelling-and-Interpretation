{
 "cells": [
  {
   "cell_type": "markdown",
   "metadata": {
    "metadata": {
     "deletable": false,
     "editable": false,
     "trusted": true
    }
   },
   "source": [
    "# Laserscanning - Exercise 2"
   ]
  },
  {
   "cell_type": "markdown",
   "metadata": {
    "metadata": {
     "deletable": false,
     "editable": false,
     "trusted": true
    }
   },
   "source": [
    "#### Please upload the implemented solutions till <u>15.11.2022</u> to the studip folder of your group. The file should follow this format:\n",
    "##### EX02_Group_XX.ipynb (e.g. EX02_Group_04.ipynb)\n",
    "(In case you need to upload additional files, please also upload them using the same schema, e.g. EX02_Group_04.zip)"
   ]
  },
  {
   "cell_type": "markdown",
   "metadata": {
    "metadata": {
     "deletable": false,
     "editable": true,
     "trusted": true
    }
   },
   "source": []
  },
  {
   "cell_type": "markdown",
   "metadata": {
    "metadata": {
     "deletable": false,
     "editable": false,
     "trusted": true
    }
   },
   "source": [
    "# Transformation\n",
    "In this assignment the main topic is the estimation of a transformation between two point clouds(`left` and `right`). You will need the lecture scripts No. 3 “Rotations” and No. 4 “Estimation of transformations” (download: Stud.IP) to complete this assignment.\n",
    "\n",
    "$${\\Large r = sRl + t }$$\n",
    "- $l$: 3D points left point cloud, $l\\in\\mathbb{R}^3$\n",
    "- $r$: 3D point right point cloud, $r\\in\\mathbb{R}^3$\n",
    "- $R$: $3\\times3$ rotation matrix\n",
    "- $t$: 3D translation vector, $t\\in\\mathbb{R}^3$\n",
    "- $s$: scale factor, $s\\in\\mathbb{R}$"
   ]
  },
  {
   "cell_type": "markdown",
   "metadata": {
    "metadata": {
     "deletable": false,
     "editable": false,
     "trusted": true
    }
   },
   "source": [
    "## Transformation Estimation\n",
    "We use the following algorithm (or recipe from the lecture) to estimate the similarity transformation from point correspondences. Given are two point lists with the same number of points $l_i,r_i$ with  $i\\in1,2,...,n$.\n",
    "\n",
    "Our goal is to estimate $R,s$ and $t$. Therefore, we define an optimization problem where we need to find parameters which minimize the distance between those points:\n",
    "\n",
    "$${\\Large\\sum_{i}{||(sRl_i + t) -r_i||}^{2} \\stackrel{!}{=} min }$$\n",
    "\n",
    "\n",
    "Recipe Steps:\n",
    "\n",
    "    1) Reduce both point lists by their center of mass\n",
    "    2) Compute the rotation\n",
    "    3) Compute the scale\n",
    "    4) Compute the translation"
   ]
  },
  {
   "cell_type": "markdown",
   "metadata": {
    "metadata": {
     "deletable": false,
     "editable": false,
     "trusted": true
    }
   },
   "source": [
    "### 1) Reduction my the center of mass\n",
    "Compute the center of mass as following (try not to use loops):\n",
    "$${\\Large l_{com}=\\frac{1}{n}\\sum_{i}l_i}$$\n",
    "$${\\Large r_{com}=\\frac{1}{n}\\sum_{i}r_i}$$\n",
    "Afterwards, reduce all points by the calculatied center of mass:\n",
    "$${\\Large l_i' = l_i - l_{com}}$$\n",
    "$${\\Large _i' = r_i - r_{com}}$$\n"
   ]
  },
  {
   "cell_type": "code",
   "execution_count": 205,
   "metadata": {
    "metadata": {
     "deletable": false,
     "editable": false,
     "trusted": true
    }
   },
   "outputs": [],
   "source": [
    "from plyfile import PlyData\n",
    "import numpy as np\n",
    "\n",
    "from tools import rotmat_from_quat # function from last exercise\n",
    "#You can use the predefined function as follows:  R = rotmat_from_quat(q) or: use your own"
   ]
  },
  {
   "cell_type": "code",
   "execution_count": 206,
   "metadata": {
    "metadata": {
     "deletable": false,
     "editable": true,
     "trusted": true
    }
   },
   "outputs": [],
   "source": [
    "import numpy as np\n",
    "def com(points): \n",
    "    # calculate the center of mass of the points\n",
    "    ### BEGIN SOLUTION\n",
    "    \n",
    "    c_m_points=np.mean(points,axis=0)\n",
    "    \n",
    "\n",
    "\n",
    "    return c_m_points\n",
    "    ### END SOLUTION\n",
    "    \n",
    "    #raise NotImplementedError()"
   ]
  },
  {
   "cell_type": "markdown",
   "metadata": {
    "metadata": {
     "deletable": false,
     "editable": true,
     "trusted": true
    }
   },
   "source": [
    "<u>Please explain your code here:</u>\n",
    "\n",
    "SOME SENTENCES\n",
    "The center of mass of the points is the average of all points. So we use mean() to calculate the average of right-points and left-points."
   ]
  },
  {
   "cell_type": "code",
   "execution_count": 207,
   "metadata": {
    "metadata": {
     "deletable": false,
     "editable": false,
     "trusted": true
    }
   },
   "outputs": [],
   "source": [
    "# define a homogeneous transformation for testing\n",
    "tp = np.array([( 1, 0, 0), \n",
    "               (-1, 0, 0),\n",
    "               ( 0, 1, 0), \n",
    "               ( 0,-1, 0),\n",
    "               ( 0, 0, 1), \n",
    "               ( 0, 0, -1)\n",
    "               ])\n",
    "twos = np.array((2,2,2))\n",
    "threes = np.array((3,-3,3))"
   ]
  },
  {
   "cell_type": "markdown",
   "metadata": {
    "metadata": {
     "deletable": false,
     "editable": false,
     "trusted": true
    }
   },
   "source": [
    "In the following cell you can test your implementation and can compare it to correct resulting values."
   ]
  },
  {
   "cell_type": "code",
   "execution_count": 208,
   "metadata": {
    "metadata": {
     "deletable": false,
     "editable": false,
     "trusted": true
    }
   },
   "outputs": [],
   "source": [
    "assert np.array_equal(com(tp + twos), twos)\n",
    "assert np.array_equal(com(tp + threes), threes)"
   ]
  },
  {
   "cell_type": "markdown",
   "metadata": {
    "metadata": {
     "deletable": false,
     "editable": false,
     "trusted": true
    }
   },
   "source": [
    "### 2) Compute Rotation\n",
    "Estimate the rotation quaternion $q$ as follows (compare lecture 4):\n",
    "\n",
    "- Calculate the sum functions  $S_{xx}=\\sum_{i}x_{l,i}'x_{r,i}'$, $S_{xy}=\\sum_{i}x_{l,i}'y_{r,i}'$ ...  Generalized: $S_{<ld><rd>}=\\sum_{i}<ld>_{l,i}'<rd>_{r,i}'$. $ld$ is left dimension and $rd$ right dimension.\n",
    "\n",
    "- Compose matrix __$S$__ from the above $S_{<ld><rd>}$.\n",
    "\n",
    "$$ S = \\begin{bmatrix}\n",
    "    S_{xx}+S_{yy}+S_{zz}& S_{yz}-S_{zy}        & S_{zx}-S_{xz}         & S_{xy}-S_{yx}  \\\\\n",
    "    \\cdotp              & S_{xx}-S_{yy}-S_{zz} & S_{xy}+S_{yx}         & S_{zx}+S_{xz}  \\\\\n",
    "    \\cdotp              & \\cdotp               & -S_{xx}+S_{yy}-S_{zz} & S_{yz}+S_{zy}  \\\\\n",
    "    \\cdotp              & \\cdotp               & \\cdotp                & -S_{xx}-S_{yy}+S_{zz}\n",
    "\\end{bmatrix}$$\n",
    "\n",
    "- Eigenvector of the larges eigenvalue of S is the searched rotation quternion $q$.\n",
    "- The $3\\times3$ rotation Matrix R is computed from q as discribed in lecture 3 slides 50/51. (This function is given by `rotmat_from_quat(q)`) \n",
    "\n"
   ]
  },
  {
   "cell_type": "code",
   "execution_count": 209,
   "metadata": {
    "metadata": {
     "deletable": false,
     "editable": true,
     "trusted": true
    }
   },
   "outputs": [],
   "source": [
    "# implement the sum function as the first step of the overall goal to compute the rotation\n",
    "from numpy import *;\n",
    "import numpy as np;\n",
    "def sum_S(left_list, right_list):\n",
    "    ### BEGIN SOLUTION\n",
    "    \n",
    "    s_x=left_list[0]*right_list[0]\n",
    "    s_y=left_list[1]*right_list[1]\n",
    "    s_z=left_list[2]*right_list[2]\n",
    "    b=s_x+s_y+s_z\n",
    "\n",
    "    return b\n",
    "    \n",
    "    \n",
    "    ### END SOLUTION\n",
    "    \n",
    "    #raise NotImplementedError()"
   ]
  },
  {
   "cell_type": "markdown",
   "metadata": {
    "metadata": {
     "deletable": false,
     "editable": true,
     "trusted": true
    }
   },
   "source": [
    "<u>Please explain your code here:</u>\n",
    "\n",
    "x, y, and z in the two matrices left_list and right_list, are multiplied together and summed to get the result."
   ]
  },
  {
   "cell_type": "markdown",
   "metadata": {
    "metadata": {
     "deletable": false,
     "editable": false,
     "trusted": true
    }
   },
   "source": [
    "In the following cell you can test your implementation and can compare it to correct resulting values."
   ]
  },
  {
   "cell_type": "code",
   "execution_count": 210,
   "metadata": {
    "metadata": {
     "deletable": false,
     "editable": false,
     "trusted": true
    }
   },
   "outputs": [],
   "source": [
    "assert sum_S(np.array([1,2,1]),np.array([1,4,3])) == 12\n",
    "assert sum_S(np.array([1,2,1]),np.array([1,1,3])) == 6"
   ]
  },
  {
   "cell_type": "code",
   "execution_count": 211,
   "metadata": {
    "metadata": {
     "deletable": false,
     "editable": true,
     "trusted": true
    }
   },
   "outputs": [],
   "source": [
    "# implement the function to compose the S matrix as the second step of the overall goal to compute the rotation\n",
    "def compose_S(left, right):\n",
    "    ### BEGIN SOLUTION\n",
    "    s_xx=0\n",
    "    s_yy=0\n",
    "    s_zz=0\n",
    "    s_xy=0\n",
    "    s_xz=0\n",
    "    s_yx=0\n",
    "    s_yz=0\n",
    "    s_zx=0\n",
    "    s_zy=0\n",
    "    for i in range(len(left)):\n",
    "        m_xx=left[i][0]*right[i][0]\n",
    "        m_yy=left[i][1]*right[i][1]\n",
    "        m_zz=left[i][2]*right[i][2]\n",
    "        m_xy=left[i][0]*right[i][1]\n",
    "        m_xz=left[i][0]*right[i][2]\n",
    "        m_yx=left[i][1]*right[i][0]\n",
    "        m_yz=left[i][1]*right[i][2]\n",
    "        m_zx=left[i][2]*right[i][0]\n",
    "        m_zy=left[i][2]*right[i][1]\n",
    "        \n",
    "        s_xx+=m_xx\n",
    "        s_yy+=m_yy\n",
    "        s_zz+=m_zz\n",
    "        s_xy+=m_xy\n",
    "        s_xz+=m_xz\n",
    "        s_yx+=m_yx\n",
    "        s_yz+=m_yz\n",
    "        s_zx+=m_zx\n",
    "        s_zy+=m_zy\n",
    "        pass\n",
    "\n",
    "    S=array([[s_xx+s_yy+s_zz,s_yz-s_zy,s_zx-s_xz,s_xy-s_yx],\n",
    "        [s_yz-s_zy,s_xx-s_yy-s_zz,s_xy+s_yx,s_zx+s_xz],\n",
    "        [s_zx-s_xz,s_xy+s_yx,-s_xx+s_yy-s_zz,s_yz+s_zy],\n",
    "        [s_xy-s_yx,s_zx+s_xz,s_yz+s_zy,-s_xx-s_yy+s_zz]])\n",
    "    return S\n",
    "\n",
    "    ### END SOLUTION\n",
    "    \n",
    "    #raise NotImplementedError()"
   ]
  },
  {
   "cell_type": "code",
   "execution_count": 212,
   "metadata": {
    "metadata": {
     "deletable": false,
     "editable": true,
     "trusted": true
    }
   },
   "outputs": [],
   "source": [
    "# this function derives the quaternion rotation from the S matrix using the singular value decomposition\n",
    "def q_from_S(S):\n",
    "    # take a look at numpy.linalg.eig() function for this task\n",
    "    ### BEGIN SOLUTION\n",
    "    \n",
    "    c = np.linalg.eig(S)\n",
    "    \n",
    "    ew=c[0]\n",
    "    l=list(ew)  \n",
    "    m=max(l)\n",
    "    num=l.index(m)\n",
    "    d=c[1]\n",
    "    q=d[:,num]\n",
    "\n",
    "    return q    \n",
    "    ### END SOLUTION\n",
    "    \n",
    "    #raise NotImplementedError()"
   ]
  },
  {
   "cell_type": "markdown",
   "metadata": {
    "metadata": {
     "deletable": false,
     "editable": true,
     "trusted": true
    }
   },
   "source": [
    "<u>Please explain your code here:</u>\n",
    "\n",
    "First we should calculate the sum functions  𝑆𝑥𝑥=∑𝑖𝑥′𝑙,𝑖𝑥′𝑟,𝑖 ,  𝑆𝑥𝑦=∑𝑖𝑥′𝑙,𝑖𝑦′𝑟,𝑖  ... \n",
    "Then we bring the previously calculated values into the formula for S.\n",
    "We use numpy.linalg.eig() to calculate the eigenvalues and eigenvectors. Then we find the location of the maximum value in the eigenvalues. The eigenvector corresponding to this position is the quaternion we require."
   ]
  },
  {
   "cell_type": "markdown",
   "metadata": {
    "metadata": {
     "deletable": false,
     "editable": false,
     "trusted": true
    }
   },
   "source": [
    "In the following cell you can test your implementation and can compare it to correct resulting values."
   ]
  },
  {
   "cell_type": "code",
   "execution_count": 213,
   "metadata": {
    "metadata": {
     "deletable": false,
     "editable": false,
     "trusted": true
    },
    "scrolled": true
   },
   "outputs": [
    {
     "name": "stdout",
     "output_type": "stream",
     "text": [
      "Sz90\n",
      "[[ 2.  0.  0. -4.]\n",
      " [ 0. -2.  0.  0.]\n",
      " [ 0.  0. -2.  0.]\n",
      " [-4.  0.  0.  2.]]\n"
     ]
    }
   ],
   "source": [
    "tp = np.array([[ 1, 0, 0], \n",
    "               [-1, 0, 0],\n",
    "               [ 0, 1, 0], \n",
    "               [ 0,-1, 0],\n",
    "               [ 0, 0, 1], \n",
    "               [ 0, 0, -1]\n",
    "               ])\n",
    "rot_z_90 = np.array([[ 0,   1.0, 0  ],\n",
    "                     [-1.0, 0,   0  ],\n",
    "                     [ 0,   0,   1.0]\n",
    "                    ])\n",
    "rot_x_90 = np.array([[ 1,  0,  0],\n",
    "                                [ 0,  0,  1],\n",
    "                                [ 0, -1,  0]])\n",
    "rot_y_90 = np.array([[ 0,  0,  1],\n",
    "                                [ 0,  1,  0],\n",
    "                                [ -1,  0, 0]])\n",
    "tp_rot = np.dot(rot_z_90, np.transpose(tp)).transpose()\n",
    "print(\"Sz90\")\n",
    "print(compose_S(tp, tp_rot))\n",
    "q = q_from_S(compose_S(tp, tp_rot))\n",
    "assert np.allclose(q, np.array([ 0.70710678,  0.,          0.,         -0.70710678]))\n",
    "tp_rot = np.dot(rot_y_90, np.transpose(tp)).transpose()\n",
    "q = q_from_S(compose_S(tp, tp_rot))\n",
    "assert np.allclose(q, np.array([ 0.70710678,  0.,          0.70710678,  0.,     ]))\n",
    "tp_rot = np.dot(rot_x_90, np.transpose(tp)).transpose()\n",
    "q = q_from_S(compose_S(tp, tp_rot))\n",
    "assert  np.allclose(q, np.array([ 0.70710678, -0.70710678,  0.,          0.,        ]))"
   ]
  },
  {
   "cell_type": "markdown",
   "metadata": {
    "metadata": {
     "deletable": false,
     "editable": false,
     "trusted": true
    }
   },
   "source": [
    "### 3) Compute scale\n",
    "Compute the scale with the following formula:\n",
    "$${\\Large s = \\sqrt{\\frac{\\sum_{i}||r_i'||^{2}}{\\sum_{i}||l_i'||^{2}}}}$$"
   ]
  },
  {
   "cell_type": "code",
   "execution_count": 214,
   "metadata": {
    "metadata": {
     "deletable": false,
     "editable": true,
     "trusted": true
    }
   },
   "outputs": [],
   "source": [
    "def calc_scale(left, right):\n",
    "    ### BEGIN SOLUTION\n",
    "    import math as m\n",
    "    r_prime=[]\n",
    "    l_prime=[]\n",
    "    l_com=np.mean(left,axis=0)\n",
    "    r_com=np.mean(right,axis=0)\n",
    "    for i in right:\n",
    "        r_prime.append(np.power(np.linalg.norm(i-r_com),2))\n",
    "    for j in left:\n",
    "        l_prime.append(np.power(np.linalg.norm(j-l_com),2))\n",
    "    r_sum=np.sum(r_prime)\n",
    "    l_sum=np.sum(l_prime)\n",
    "    s=m.sqrt(r_sum/l_sum)\n",
    "\n",
    "    return s\n",
    "    ### END SOLUTION\n",
    "    \n",
    "   # raise NotImplementedError()"
   ]
  },
  {
   "cell_type": "markdown",
   "metadata": {
    "metadata": {
     "deletable": false,
     "editable": true,
     "trusted": true
    }
   },
   "source": [
    "<u>Please explain your code here:</u>\n",
    "\n",
    "SOME SENTENCES\n",
    "We use np.linalg.norm() to calculate  one of the vector norms. Power is used to raise the number on the left to the power of the exponent of the right. We compute the scale with the above formula."
   ]
  },
  {
   "cell_type": "markdown",
   "metadata": {
    "metadata": {
     "deletable": false,
     "editable": false,
     "trusted": true
    }
   },
   "source": [
    "In the following cell you can test your implementation and can compare it to correct resulting values."
   ]
  },
  {
   "cell_type": "code",
   "execution_count": 215,
   "metadata": {
    "metadata": {
     "deletable": false,
     "editable": false,
     "trusted": true
    }
   },
   "outputs": [],
   "source": [
    "assert calc_scale(tp, tp*1) == 1.0\n",
    "assert calc_scale(tp, tp*2) == 2.0\n",
    "assert calc_scale(tp, tp*4) == 4.0"
   ]
  },
  {
   "cell_type": "markdown",
   "metadata": {
    "metadata": {
     "deletable": false,
     "editable": false,
     "trusted": true
    }
   },
   "source": [
    "### 4) Compute Translation\n",
    "The translation is computed with known scale $s$ and rotation $R$.\n",
    "$${\\Large t=r_{com} - sRl_{com}}$$"
   ]
  },
  {
   "cell_type": "code",
   "execution_count": 216,
   "metadata": {
    "metadata": {
     "deletable": false,
     "editable": true,
     "trusted": true
    }
   },
   "outputs": [],
   "source": [
    "def calc_t(l_com, r_com, s, R):\n",
    "    ### BEGIN SOLUTION\n",
    "    import numpy as np\n",
    "    \n",
    "    t=r_com-s*np.dot(R,l_com)\n",
    "    \n",
    "\n",
    "    return t\n",
    "    \n",
    "    ### END SOLUTION"
   ]
  },
  {
   "cell_type": "markdown",
   "metadata": {
    "metadata": {
     "deletable": false,
     "editable": true,
     "trusted": true
    }
   },
   "source": [
    "<u>Please explain your code here:</u>\n",
    "\n",
    "SOME SENTENCES"
   ]
  },
  {
   "cell_type": "markdown",
   "metadata": {
    "metadata": {
     "deletable": false,
     "editable": false,
     "trusted": true
    }
   },
   "source": [
    "In the following cell you can test your implementation and can compare it to correct resulting values."
   ]
  },
  {
   "cell_type": "code",
   "execution_count": 217,
   "metadata": {
    "metadata": {
     "deletable": false,
     "editable": false,
     "trusted": true
    }
   },
   "outputs": [],
   "source": [
    "from tools import rotmat_from_quat\n",
    "rot_y_90 = np.array([[ 0,  0,  1],\n",
    "                     [ 0,  1,  0],\n",
    "                     [ -1,  0, 0]])\n",
    "tp_rot = np.dot(rot_y_90, np.transpose(tp)).transpose()\n",
    "tp_rot = tp_rot + np.array([10, 5, 2])\n",
    "q = q_from_S(compose_S(tp, tp_rot))\n",
    "R = rotmat_from_quat(q)\n",
    "s = calc_scale(tp, tp_rot)\n",
    "assert np.allclose(calc_t(com(tp), com(tp_rot),s,R), np.array([ 10.,   5.,   2.]))"
   ]
  },
  {
   "cell_type": "markdown",
   "metadata": {
    "metadata": {
     "deletable": false,
     "editable": false,
     "trusted": true
    }
   },
   "source": [
    "## Application\n",
    "Please estimate the transformation between point cloud left and right, given in `.ply` format. Apply the transformation to the point cloud in order to reproduce the second cloud. Calculate the mean distance between the second cloud and the reproduced cloud."
   ]
  },
  {
   "cell_type": "code",
   "execution_count": 218,
   "metadata": {
    "metadata": {
     "deletable": false,
     "editable": false,
     "trusted": true
    }
   },
   "outputs": [
    {
     "name": "stdout",
     "output_type": "stream",
     "text": [
      "[[10.019  2.656  0.885]\n",
      " [ 7.559  4.033  0.896]\n",
      " [ 8.175  4.201  0.911]\n",
      " ...\n",
      " [ 2.55  15.143 11.826]\n",
      " [ 2.73  15.114 11.951]\n",
      " [ 2.632 15.21  11.929]] l\n",
      "[[10.418883  5.416085  0.972391]\n",
      " [ 8.675199  4.396667  2.939166]\n",
      " [ 9.235649  4.702922  2.942009]\n",
      " ...\n",
      " [12.440327 -6.050413 14.967026]\n",
      " [12.6469   -6.075485 14.892427]\n",
      " [12.575439 -6.09134  15.01052 ]] r\n"
     ]
    }
   ],
   "source": [
    "# load the data\n",
    "from plyfile import PlyData\n",
    "_data = PlyData.read('points_left.ply').elements[0].data\n",
    "left = np.stack((_data['x'], _data['y'], _data['z']), axis=1)\n",
    "_data = PlyData.read('points_right.ply').elements[0].data\n",
    "right = np.stack((_data['x'], _data['y'], _data['z']), axis=1) \n",
    "\n",
    "print(left,'l')\n",
    "print(right,'r')"
   ]
  },
  {
   "cell_type": "markdown",
   "metadata": {
    "metadata": {
     "deletable": false,
     "editable": false,
     "trusted": true
    }
   },
   "source": [
    "Estimate the rotation of the two given point clouds, `left`and `right`. Furthermore, calculate the error of the original `right`and rotated `left` point cloud."
   ]
  },
  {
   "cell_type": "code",
   "execution_count": 219,
   "metadata": {
    "metadata": {
     "deletable": false,
     "editable": true,
     "trusted": true
    }
   },
   "outputs": [
    {
     "name": "stdout",
     "output_type": "stream",
     "text": [
      "[[ 0.81260534  0.19218197  0.55021692]\n",
      " [ 0.52362426  0.17379355 -0.83403443]\n",
      " [-0.25591053  0.96584776  0.04059442]]\n",
      "[ -3.40842351   9.03725705 -10.60066022]\n"
     ]
    }
   ],
   "source": [
    "### BEGIN SOLUTION\n",
    "import math as m\n",
    "import numpy as np\n",
    "from tools import rotmat_from_quat\n",
    "l_com=np.mean(left,axis=0)\n",
    "r_com=np.mean(right,axis=0)\n",
    "\n",
    "S=compose_S(left, right)\n",
    "q=q_from_S(S)\n",
    "s=calc_scale(left, right)\n",
    "R = rotmat_from_quat(q)\n",
    "t=calc_t(l_com, r_com, s, R)\n",
    "\n",
    "re=np.dot(left,R)\n",
    "error=np.mean(re-right,axis=0)\n",
    "\n",
    "print(R)\n",
    "\n",
    "print(error)\n",
    "\n",
    "\n",
    "\n",
    "### END SOLUTION\n",
    "\n",
    "#raise NotImplementedError()"
   ]
  },
  {
   "cell_type": "markdown",
   "metadata": {
    "metadata": {
     "deletable": false,
     "editable": true,
     "trusted": true
    }
   },
   "source": [
    "<u>Please explain your code here:</u>\n",
    "At first we calculate the R through left and right. And then calculate the reproduced cloud through np.dot(left,R). At last calculate the mean value of error through np.mean(re-right,axis)\n",
    "\n",
    "SOME SENTENCES"
   ]
  },
  {
   "cell_type": "code",
   "execution_count": null,
   "metadata": {},
   "outputs": [],
   "source": []
  }
 ],
 "metadata": {
  "kernelspec": {
   "display_name": "Python 3 (ipykernel)",
   "language": "python",
   "name": "python3"
  },
  "language_info": {
   "codemirror_mode": {
    "name": "ipython",
    "version": 3
   },
   "file_extension": ".py",
   "mimetype": "text/x-python",
   "name": "python",
   "nbconvert_exporter": "python",
   "pygments_lexer": "ipython3",
   "version": "3.9.13"
  }
 },
 "nbformat": 4,
 "nbformat_minor": 2
}
