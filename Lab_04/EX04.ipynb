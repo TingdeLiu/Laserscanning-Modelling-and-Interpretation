{
 "cells": [
  {
   "cell_type": "markdown",
   "metadata": {
    "metadata": {
     "deletable": false,
     "editable": false,
     "trusted": true
    }
   },
   "source": [
    "# Laserscanning - Exercise 4"
   ]
  },
  {
   "cell_type": "markdown",
   "metadata": {
    "metadata": {
     "deletable": false,
     "editable": false,
     "trusted": true
    }
   },
   "source": [
    "#### Please upload the implemented solutions till <u>29.11.2022</u> to the studip folder of your group. The file should follow this format:\n",
    "##### EX04_Group_XX.ipynb (e.g. EX04_Group_04.ipynb)\n",
    "(In case you need to upload additional files, please also upload them using the same schema, e.g. EX04_Group_04.zip)"
   ]
  },
  {
   "cell_type": "markdown",
   "metadata": {
    "metadata": {
     "deletable": false,
     "editable": true,
     "trusted": true
    }
   },
   "source": []
  },
  {
   "cell_type": "markdown",
   "metadata": {
    "metadata": {
     "deletable": false,
     "editable": false,
     "trusted": true
    }
   },
   "source": [
    "# Segmentation I\n",
    "\n",
    "You will need the lecture script No. 5 “Segmentation I” (download: Stud.IP) to complete this assignment.\n",
    "\n",
    "# Determination of plane parameters using PCA\n",
    "Principal Component Analysis (PCA) calculates the eigenvector of a point cloud as the normal vector by finding out the parameters of the optimal plane fitting the provided data (lecture script No. 5, slides ~20-23). Implement the PCA as a function (input: point cloud as a $n\\times3$ array) and estimate the corresponding plane(s) for all three provided point clouds (download: Stud.IP)."
   ]
  },
  {
   "cell_type": "code",
   "execution_count": 4,
   "metadata": {
    "metadata": {
     "deletable": false,
     "editable": false,
     "trusted": true
    },
    "scrolled": true
   },
   "outputs": [
    {
     "name": "stdout",
     "output_type": "stream",
     "text": [
      "[[ 0.0693865  2.54306    0.0111053]\n",
      " [ 0.074412   2.54541    0.0109674]\n",
      " [ 0.0797195  2.54718    0.010857 ]\n",
      " ...\n",
      " [ 0.321962   2.79352   -0.0689245]\n",
      " [ 0.330892   2.80246   -0.0707128]\n",
      " [ 0.339948   2.81185   -0.0725622]]\n",
      "[[ 0.369  2.778 -0.511]\n",
      " [ 0.369  2.776 -0.638]\n",
      " [ 0.37   2.786 -0.665]\n",
      " ...\n",
      " [-0.07   2.436 -0.248]\n",
      " [-0.07   2.441 -0.372]\n",
      " [-0.07   2.441 -0.545]]\n",
      "[[ 1.393  2.717 -0.005]\n",
      " [ 1.393  2.716 -0.017]\n",
      " [ 1.381  2.706  0.034]\n",
      " ...\n",
      " [ 1.054  3.043 -0.505]\n",
      " [ 1.053  3.04  -0.511]\n",
      " [ 1.043  3.033 -0.387]]\n"
     ]
    }
   ],
   "source": [
    "from plyfile import PlyData\n",
    "import numpy as np\n",
    "\n",
    "# load data\n",
    "_data = PlyData.read('plane_tango.ply').elements[0].data\n",
    "plane_tango = np.stack((_data['x'], _data['y'], _data['z']), axis=1)\n",
    "_data = PlyData.read('plane_riegl1.ply').elements[0].data\n",
    "plane_riegl1 = np.stack((_data['x'], _data['y'], _data['z']), axis=1) \n",
    "_data = PlyData.read('plane_riegl2.ply').elements[0].data\n",
    "plane_riegl2 = np.stack((_data['x'], _data['y'], _data['z']), axis=1) \n",
    "\n",
    "print(plane_tango)\n",
    "print(plane_riegl1)\n",
    "print(plane_riegl2)"
   ]
  },
  {
   "cell_type": "code",
   "execution_count": 5,
   "metadata": {
    "metadata": {
     "deletable": false,
     "editable": true,
     "trusted": true
    }
   },
   "outputs": [],
   "source": [
    "# implement the PCA algorithm\n",
    "def pca(points):\n",
    "    ### BEGIN SOLUTION\n",
    "    mean_points = np.mean(points,axis=0)\n",
    "    #print(mean_points)\n",
    "    list_mp =  mean_points.tolist()\n",
    "    c_points = points - mean_points\n",
    "    covariance_mat = c_points.T @ c_points  #covariance matrix\n",
    "    eigen_vals, eigen_vecs = np.linalg.eig(covariance_mat)    \n",
    "    #print(eigen_vals)\n",
    "    list_eva = eigen_vals.tolist()\n",
    "    lambda_ = min(eigen_vals)\n",
    "    n = eigen_vecs[list_eva.index(lambda_)]  #the sought-for normal vector\n",
    "    #print(n)\n",
    "    list_n = n.tolist()\n",
    "    #unit_n = n / np.linalg.norm(n)\n",
    "    #print(np.linalg.norm(n))\n",
    "    d = -(list_n[0]*list_mp[0]+list_n[1]*list_mp[1]+list_n[2]*list_mp[2])\n",
    "    \n",
    "\n",
    "    ### END SOLUTION\n",
    "    \n",
    "    #raise NotImplementedError()\n",
    "    \n",
    "    return lambda_ , n, d"
   ]
  },
  {
   "cell_type": "markdown",
   "metadata": {
    "metadata": {
     "deletable": false,
     "editable": false,
     "trusted": true
    }
   },
   "source": [
    "In the following cell you can test your implementation and can compare it with the correct values for each of the three provided point cloud files. At some point the decimal values could slightly vary.\n",
    "\n",
    "| file | lambda | normal vector | distance |\n",
    "| --- | --- | --- | --- |\n",
    "| plane_tango.ply | 0.297639 | [-0.69960505  0.71404618  0.02628372] | -1.75849068165 |\n",
    "| plane_riegl1.ply | 0.859337 | [-0.67446429  0.73830175 -0.00290692] | -1.8286588192 |\n",
    "| plane_riegl2.ply | 0.747634 | [-0.73383665 -0.67925513  0.00981276] | 2.85578155518 |"
   ]
  },
  {
   "cell_type": "code",
   "execution_count": 8,
   "metadata": {
    "metadata": {
     "deletable": false,
     "editable": true,
     "trusted": true
    }
   },
   "outputs": [
    {
     "data": {
      "text/plain": [
       "(0.74763775,\n",
       " array([-0.73383665, -0.67931044,  0.00459555], dtype=float32),\n",
       " 2.8546816426362494)"
      ]
     },
     "execution_count": 8,
     "metadata": {},
     "output_type": "execute_result"
    }
   ],
   "source": [
    "pca(plane_riegl2)"
   ]
  },
  {
   "cell_type": "markdown",
   "metadata": {
    "metadata": {
     "deletable": false,
     "editable": true,
     "trusted": true
    }
   },
   "source": [
    "<u>Please explain your code and the **PCA principle** here:</u>\n",
    "\n",
    "\n",
    "Principal component analysis, or PCA, is a dimensionality-reduction method that is often used to reduce the dimensionality of large data sets, by transforming a large set of variables into a smaller one that still contains most of the information in the large set.\n",
    "\n",
    "First we use np.mean() to find the center point of the points cloud and simplified coordinates. We transform the simplified coordinates and then dot itself to get the covariance matrix.  Then we use np.linalg.eig() to find his eigenvalues and eigenvectors.The sought-for normal vector n ist the eigenvector belonging to the smallest eigen value of symmetric matrix.The remaining parameter d is determined by d=- nTp=ax+by+cz(x,y,z are average values). Lambda is the smallest eigenvalue."
   ]
  },
  {
   "cell_type": "markdown",
   "metadata": {
    "metadata": {
     "deletable": false,
     "editable": false,
     "trusted": true
    }
   },
   "source": [
    "## Calculate the noise 𝜎 for every point cloud\n",
    "\n",
    "Calculate the noise of the process using an **iterative approach** by calculating and summing the single $\\nu_i$:\n",
    "\n",
    "$$\\sigma=\\sqrt{\\frac{\\sum \\nu_i^2}{m-3}}$$"
   ]
  },
  {
   "cell_type": "code",
   "execution_count": 9,
   "metadata": {
    "metadata": {
     "deletable": false,
     "editable": true,
     "trusted": true
    }
   },
   "outputs": [],
   "source": [
    "def noise_it(points, n, d):\n",
    "    ### BEGIN SOLUTION\n",
    "    sum_v_i_square = 0\n",
    "    for i in range(len(points)):\n",
    "        v_i_square = (n[0]*points[i][0] + n[1]*points[i][1] + n[2]*points[i][2])**2\n",
    "        sum_v_i_square += v_i_square\n",
    "    sigma = sqrt(sum_v_i_square/(len(points)-3))\n",
    "\n",
    "    ### END SOLUTION\n",
    "    \n",
    "    #raise NotImplementedError()\n",
    "    \n",
    "    return sigma"
   ]
  },
  {
   "cell_type": "markdown",
   "metadata": {
    "metadata": {
     "deletable": false,
     "editable": true,
     "trusted": true
    }
   },
   "source": [
    "<u>Please explain your code and findings here:</u>\n",
    "\n",
    "\n",
    "First we use a for loop to find sum_v_i_square, and then substituting into the formula we get sigma."
   ]
  },
  {
   "cell_type": "markdown",
   "metadata": {
    "nbgrader": {
     "grade": false,
     "grade_id": "cell-e58e3ec8417a2982",
     "locked": true,
     "schema_version": 1,
     "solution": false
    }
   },
   "source": [
    "## Compare the noise to the smallest eigenvalue 𝜆 derived from the PCA\n",
    "\n",
    "Calcultae the noise from the **smallest eigenvalue** and compare the results with the `noise_it` function. Hint: lecture script No.5 slide ~23.\n",
    "\n",
    "$$\\sigma=\\sqrt{\\frac{V^TV}{m-3}}=\\sqrt{\\frac{\\lambda}{m-3}}$$"
   ]
  },
  {
   "cell_type": "code",
   "execution_count": 10,
   "metadata": {
    "metadata": {
     "deletable": false,
     "editable": true,
     "trusted": true
    }
   },
   "outputs": [],
   "source": [
    "def noise_lambda(lambda_, m):\n",
    "    ### BEGIN SOLUTION\n",
    "    \n",
    "    sigma = sqrt(lambda_/(m-3))\n",
    "    \n",
    "    ### END SOLUTION\n",
    "    \n",
    "    #raise NotImplementedError()\n",
    "    \n",
    "    return sigma    "
   ]
  },
  {
   "cell_type": "markdown",
   "metadata": {
    "metadata": {
     "deletable": false,
     "editable": true,
     "trusted": true
    }
   },
   "source": [
    "<u>Please explain your code and findings here:</u>\n",
    "\n",
    "\n",
    "Because vTv equals lambda_. So we directly substitute lambda_ and m into the equation to get sigma."
   ]
  },
  {
   "cell_type": "markdown",
   "metadata": {
    "metadata": {
     "deletable": false,
     "editable": false,
     "trusted": true
    }
   },
   "source": [
    "### 1) Compare the noise of the different planes to each other\n",
    "### 2) How can the values be interpreted?\n",
    "### 3) Where do possible differences arise from?"
   ]
  },
  {
   "cell_type": "markdown",
   "metadata": {
    "metadata": {
     "deletable": false,
     "editable": true,
     "trusted": true
    }
   },
   "source": [
    "<u>Answer the above points here:</u>\n",
    "\n",
    "\n",
    "\n",
    "The noise of the different planes to each other are different.\n",
    "The values Standard deviation of the point distance can be interpreted by the formula shown above.We need to ask out vTV.\n",
    "Here there are two ways to find the vTv. The first way we use Loop. we substitute each point into the plane equation, compute vi, compute square, sum up… The second way we use simpler solution. we note that n was obtained as eigenvector belonging to the smallest eigenvalue lambda of ATA. vTv is equal to lambda. Therefore, can be directly obtained from lambda.\n",
    "Possible differences arise from lambda_ , n, d. The different planes have different lambda_ , n, d, so they noise are different. Some outlying points can have a big impact on the noise."
   ]
  },
  {
   "cell_type": "markdown",
   "metadata": {
    "metadata": {
     "deletable": false,
     "editable": true,
     "trusted": true
    }
   },
   "source": [
    "### Calculate the normal vectors and their intersection angles.\n",
    "## Q: Are they perpendicular to each other?"
   ]
  },
  {
   "cell_type": "code",
   "execution_count": 11,
   "metadata": {
    "metadata": {
     "deletable": false,
     "editable": true,
     "trusted": true
    }
   },
   "outputs": [
    {
     "name": "stdout",
     "output_type": "stream",
     "text": [
      "plane_tango--plane_riegl1:  10.041165259220588\n",
      "plane_tango--plane_riegl2:  88.14713610719379\n",
      "plane_riegl1--plane_riegl2:  90.22608176600559\n"
     ]
    }
   ],
   "source": [
    "### BEGIN SOLUTION\n",
    "n_1=pca(plane_tango)[1]\n",
    "n_2=pca(plane_riegl1)[1]\n",
    "n_3=pca(plane_riegl2)[1]\n",
    "\n",
    "Angle_1_2=np.arccos(np.dot(n_1,n_2)/(np.linalg.norm(n_1)*np.linalg.norm(n_2)))\n",
    "print('plane_tango--plane_riegl1: ',Angle_1_2*(180/np.pi))\n",
    "Angle_1_3=np.arccos(np.dot(n_1,n_3)/(np.linalg.norm(n_1)*np.linalg.norm(n_3)))\n",
    "print('plane_tango--plane_riegl2: ',Angle_1_3*(180/np.pi))\n",
    "Angle_2_3=np.arccos(np.dot(n_2,n_3)/(np.linalg.norm(n_2)*np.linalg.norm(n_3)))\n",
    "print('plane_riegl1--plane_riegl2: ',Angle_2_3*(180/np.pi))\n",
    "\n",
    "#Angle_1_2=np.arccos((np.dot(n_1[0],n_2[0])+np.dot(n_1[1],n_2[1])+np.dot(n_1[2],n_2[2]))/((np.sqrt(n_1[0] ** + n_1[1] ** + n_1[2] **))*(np.sqrt(n_2[0] ** + n_2[1] ** +n_2[2] **))))\n",
    "\n",
    "### END SOLUTION\n",
    "\n",
    "#raise NotImplementedError()"
   ]
  },
  {
   "cell_type": "markdown",
   "metadata": {
    "metadata": {
     "deletable": false,
     "editable": true,
     "trusted": true
    }
   },
   "source": [
    "<u>Please explain your code and and answer the question here:</u>\n",
    "\n",
    "SOME SENTENCES\n",
    "\n",
    "We have three points cloud and we can get three plane from those three points cloud,so i use the function pca and return the three normal vector n_1,n_2,n_3. And then i ues the function 'cosα=vector_a dot vector_b/norm_a*norm_b ' to calculate the intersection angles. If the angles equal to 90 dgree, this means the two vector perpendicular to each other and this means also the two plane perpendicular to each other.\n",
    "\n",
    "From the results we can see, the plane_tango does not perpendicular to plane_riegl2 and the angle between plane_riegl1 and plane_riegl2 is very close to 90 dgree, so i think they perpendicular to each other.The angle between plane_tango and plane_riegl2 is 88.15 degree, from this result those two planes are not vertical."
   ]
  },
  {
   "cell_type": "code",
   "execution_count": null,
   "metadata": {},
   "outputs": [],
   "source": []
  }
 ],
 "metadata": {
  "kernelspec": {
   "display_name": "Python 3 (ipykernel)",
   "language": "python",
   "name": "python3"
  },
  "language_info": {
   "codemirror_mode": {
    "name": "ipython",
    "version": 3
   },
   "file_extension": ".py",
   "mimetype": "text/x-python",
   "name": "python",
   "nbconvert_exporter": "python",
   "pygments_lexer": "ipython3",
   "version": "3.9.9"
  }
 },
 "nbformat": 4,
 "nbformat_minor": 2
}
