{
 "cells": [
  {
   "cell_type": "markdown",
   "metadata": {
    "metadata": {
     "deletable": false,
     "editable": false,
     "trusted": true
    }
   },
   "source": [
    "# Laserscanning - Exercise 1"
   ]
  },
  {
   "cell_type": "markdown",
   "metadata": {
    "metadata": {
     "deletable": false,
     "editable": false,
     "trusted": true
    }
   },
   "source": [
    "#### Please upload the implemented solutions till <u>08.11.2022</u> to the studip folder of your group. The file should follow this format:\n",
    "##### EX01_Group_XX.ipynb (e.g. EX01_Group_04.ipynb)\n",
    "(In case you need to upload additional files, please also upload them using the same schema, e.g. EX01_Group_04.zip)"
   ]
  },
  {
   "cell_type": "markdown",
   "metadata": {
    "metadata": {
     "deletable": false,
     "editable": false,
     "trusted": true
    }
   },
   "source": []
  },
  {
   "cell_type": "markdown",
   "metadata": {
    "metadata": {
     "deletable": false,
     "editable": false,
     "trusted": true
    }
   },
   "source": [
    "# Rotation\n",
    "\n",
    "The main goal of this exercise is to learn how to rotate 3d (laserscan) points. We are given 3 files in `.ply` format containing laserscan points. This data will be the basis to check the implementation in the first exercise.\n",
    "\n",
    "## Load the data\n",
    "\n",
    "The Polygon File Format (PLY) is designed to store data from 3d scanners. The data can be stored in readable inscii format or in the more efficient binary format. In the next cell we take a short look at the first (20) lines of one of our `.ply` files."
   ]
  },
  {
   "cell_type": "code",
   "execution_count": 1,
   "metadata": {
    "metadata": {
     "deletable": false,
     "editable": false,
     "trusted": true
    },
    "scrolled": true
   },
   "outputs": [
    {
     "name": "stderr",
     "output_type": "stream",
     "text": [
      "Der Befehl \"head\" ist entweder falsch geschrieben oder\n",
      "konnte nicht gefunden werden.\n"
     ]
    }
   ],
   "source": [
    "! head -20 schneiderberg3.ply"
   ]
  },
  {
   "cell_type": "markdown",
   "metadata": {
    "metadata": {
     "deletable": false,
     "editable": false,
     "trusted": true
    }
   },
   "source": [
    "As you can see in the output of the above cell, the file also include header information at the beginning of the file. The end of the header is indicated by `end_header`. The header describes the structure of the data part starting after the `end_header`. Each line we have the 3D coordinates  ```x y z``` followed by the captured color of the point stored in ```red green blue```, RGB format, and the `alpha` value. These values do not contain a delimiter symbol but a space ` ` as delimiter."
   ]
  },
  {
   "cell_type": "markdown",
   "metadata": {
    "metadata": {
     "deletable": false,
     "editable": false,
     "trusted": true
    }
   },
   "source": [
    "### Implement loader\n",
    "In the following step the task is to implement the data loader for the provided `.ply` files. The initial structure of the function `load_ply` is already provided in the cell below. Comments in the code will give hints in order to guide you through the implementation process."
   ]
  },
  {
   "cell_type": "code",
   "execution_count": 2,
   "metadata": {
    "metadata": {
     "deletable": false,
     "editable": true,
     "trusted": true
    }
   },
   "outputs": [],
   "source": [
    "import numpy as np\n",
    "import math\n",
    "def load_ply(filename):\n",
    "    with open(filename) as ply_file:\n",
    "        for line in ply_file:\n",
    "            # here we could interpret the header information which we want to skip\n",
    "            # in our case we will hardcode the header skip with:\n",
    "            if line.strip() == 'end_header':\n",
    "                break\n",
    "        # now you need to iterate through the remaining data block of the file line by line\n",
    "        # split the lines by the delimiter ' ' (space) and parse the string representation of the number in in suitable format like for example float type\n",
    "        # compose all the points to a single matrix\n",
    "        # as the output is expected to be a matrix with dimension [number_of_rows, number_of_attributes]\n",
    "        # 10699 points (number_of_rows) in the test file Schneiderberg3.ply and 7 (number_of_attributes) because of three coordinates x y z and three rgb values and the alpha value\n",
    "\n",
    "        ### BEGIN SOLUTION\n",
    "        Matrix = []\n",
    "        for line in ply_file:\n",
    "            x=line.split()\n",
    "            Matrix.append(x)\n",
    "        Matrix=np.array(Matrix ,dtype=float)\n",
    "\n",
    "        return Matrix\n",
    "        ### END SOLUTION\n",
    "    "
   ]
  },
  {
   "cell_type": "markdown",
   "metadata": {
    "metadata": {
     "deletable": false,
     "editable": true,
     "trusted": true
    }
   },
   "source": [
    "<u>Please explain your code here:</u>\n",
    "\n",
    "\n",
    "I put all data into list1, but list1 includes also header information, so i cut the string then put the data(x y z rgb alpha) into list2. when i delete '\\n' with .strip(), there will still be a symbol '' there, so i use .pop to delete the symbol. At last use np.array to transfer the list to matrix.\n",
    "aodoasdjasdnmaldml"
   ]
  },
  {
   "cell_type": "markdown",
   "metadata": {
    "metadata": {
     "deletable": false,
     "editable": false,
     "trusted": true
    }
   },
   "source": [
    "In the following cell you can test your implementation and can compare it with the correct values for each of the three provided point cloud files.\n",
    "\n",
    "| file | rows | columns |\n",
    "| --- | --- | --- |\n",
    "| schneiderberg1.ply | 787639 | 6 |\n",
    "| schneiderberg2.ply | 19315 | 7 |\n",
    "| schneiderberg3.ply | 10699 | 7 |"
   ]
  },
  {
   "cell_type": "code",
   "execution_count": 3,
   "metadata": {
    "metadata": {
     "deletable": false,
     "editable": false,
     "trusted": true
    }
   },
   "outputs": [
    {
     "name": "stdout",
     "output_type": "stream",
     "text": [
      "Shape of the loaded matrix: (10699, 7)\n"
     ]
    }
   ],
   "source": [
    "loaded_file = load_ply('schneiderberg3.ply')\n",
    "print(\"Shape of the loaded matrix: {}\".format(loaded_file.shape))\n",
    "#assert loaded_file.shape == (787639, 6)\n",
    "#assert loaded_file.shape == (19315, 7)\n",
    "assert loaded_file.shape == (10699, 7)"
   ]
  },
  {
   "cell_type": "code",
   "execution_count": 4,
   "metadata": {
    "metadata": {
     "deletable": false,
     "editable": true,
     "trusted": true
    }
   },
   "outputs": [],
   "source": [
    "points = load_ply('schneiderberg3.ply')"
   ]
  },
  {
   "cell_type": "code",
   "execution_count": null,
   "metadata": {
    "metadata": {
     "deletable": false,
     "editable": false,
     "trusted": true
    }
   },
   "outputs": [],
   "source": [
    "# visualization example of the point cloud\n",
    "import ipyvolume as ipv\n",
    "ipv.quickscatter(points[:,0], points[:,1], points[:,2], size=1, marker=\"sphere\")"
   ]
  },
  {
   "cell_type": "code",
   "execution_count": null,
   "metadata": {
    "metadata": {
     "deletable": false,
     "editable": false,
     "trusted": true
    }
   },
   "outputs": [],
   "source": [
    "ipv.pylab.save('schneiderberg_normal.html')"
   ]
  },
  {
   "cell_type": "markdown",
   "metadata": {
    "metadata": {
     "deletable": false,
     "editable": false,
     "trusted": true
    }
   },
   "source": [
    "## Rotate\n",
    "Implement a function to rote 3d points around the three axes `omega`, `phi` and `kappa`.\n",
    "\n",
    "`omega` rotation angle about x axes\n",
    "\n",
    "`phi` rotation angle about y axes\n",
    "\n",
    "`kappa` rotation angle about z axes"
   ]
  },
  {
   "cell_type": "code",
   "execution_count": null,
   "metadata": {
    "metadata": {
     "deletable": false,
     "editable": true,
     "trusted": true
    }
   },
   "outputs": [],
   "source": [
    "from numpy import *\n",
    "import numpy as np\n",
    "\n",
    "def rotation(omega, phi, kappa):\n",
    "    # This method should return a numpy matrix which rotates a 3D point by the given angles omega, phi and kappa\n",
    "    \n",
    "    ### BEGIN SOLUTION\n",
    "\n",
    "    Rx=np.array([[1,0,0],\n",
    "                 [0,cos(omega),-sin(omega)],\n",
    "                 [0,sin(omega),cos(omega)]])\n",
    "    Ry=np.array([[cos(phi),0,sin(phi)],\n",
    "                 [0,1,0],\n",
    "                 [-sin(phi),0,cos(phi)]])\n",
    "    Rz=np.array([[cos(kappa),-sin(kappa),0],[sin(kappa),cos(kappa),0],\n",
    "                 [0,0,1]])\n",
    "\n",
    "    R1=np.dot(Rz,Ry)\n",
    "    R=np.dot(R1,Rx)\n",
    "    return R\n",
    "    ### END SOLUTION\n",
    "    \n",
    "    #raise NotImplementedError()\n",
    "    "
   ]
  },
  {
   "cell_type": "markdown",
   "metadata": {
    "metadata": {
     "deletable": false,
     "editable": true,
     "trusted": true
    }
   },
   "source": [
    "<u>Please explain your code here:</u>\n",
    "\n",
    "R is a rotation matrix aroun (x,y,z) axes ,so I did the rotaition on each axis Rx,Ry,Rz then multiplied them to get R."
   ]
  },
  {
   "cell_type": "markdown",
   "metadata": {
    "metadata": {
     "deletable": false,
     "editable": false,
     "trusted": true
    }
   },
   "source": [
    "In the following cell you can test your implementation and can compare it to correct resulting values."
   ]
  },
  {
   "cell_type": "code",
   "execution_count": null,
   "metadata": {
    "metadata": {
     "deletable": false,
     "editable": false,
     "trusted": true
    }
   },
   "outputs": [],
   "source": [
    "assert np.array_equal(rotation(np.radians(-90),0,0).astype(int),\n",
    "                      np.array([[ 1,  0,  0],\n",
    "                                [ 0,  0,  1],\n",
    "                                [ 0, -1,  0]]))\n",
    "assert np.array_equal(rotation(0, np.radians(90),0).astype(int),\n",
    "                      np.array([[ 0,  0,  1],\n",
    "                                [ 0,  1,  0],\n",
    "                                [ -1,  0, 0]]))\n",
    "assert np.array_equal(rotation(0, 0, np.radians(90)).astype(int),\n",
    "                      np.array([[ 0,  -1,  0],\n",
    "                                [ 1,  0,  0],\n",
    "                                [ 0, 0, 1]]))"
   ]
  },
  {
   "cell_type": "markdown",
   "metadata": {
    "metadata": {
     "deletable": false,
     "editable": false,
     "trusted": true
    }
   },
   "source": [
    "In the next cell one of the three point clouds is rotated by an examplary rotation."
   ]
  },
  {
   "cell_type": "code",
   "execution_count": null,
   "metadata": {
    "metadata": {
     "deletable": false,
     "editable": false,
     "trusted": true
    }
   },
   "outputs": [],
   "source": [
    "# example rotation estimation\n",
    "points = load_ply('schneiderberg3.ply')[:,0:3]\n",
    "rot_mat = rotation(0, 0, np.radians(90))\n",
    "points_rot = np.dot(rot_mat, points.transpose()).transpose()\n",
    "print(points_rot)\n",
    "print(points_rot.shape)"
   ]
  },
  {
   "cell_type": "markdown",
   "metadata": {
    "metadata": {
     "deletable": false,
     "editable": false,
     "trusted": true
    }
   },
   "source": [
    "## Rotate the point cloud\n",
    "\n",
    "Please rotate the point cloud and visualize it (similar as above). Rotate the point cloud by omega= 180 deg, phi= 180 deg and kappa= 90 deg."
   ]
  },
  {
   "cell_type": "code",
   "execution_count": null,
   "metadata": {
    "metadata": {
     "deletable": false,
     "editable": true,
     "trusted": true
    }
   },
   "outputs": [],
   "source": [
    "points = load_ply('schneiderberg3.ply')[:,0:3]\n",
    "\n",
    "### BEGIN SOLUTION\n",
    "from numpy import *\n",
    "import numpy as np\n",
    "rot_mat = rotation(np.radians(180), np.radians(180), np.radians(90))\n",
    "list_points_rot=[]\n",
    "for n in range(len(points)):\n",
    "    allpoints_rot=points[n]\n",
    "    points_rot = np.dot(rot_mat,allpoints_rot.transpose()).transpose()\n",
    "    list_points_rot.append(points_rot)\n",
    "print(list_points_rot)\n",
    "\n",
    "### END SOLUTION\n",
    "\n",
    "#raise NotImplementedError()"
   ]
  },
  {
   "cell_type": "markdown",
   "metadata": {
    "metadata": {
     "deletable": false,
     "editable": true,
     "trusted": true
    }
   },
   "source": [
    "<u>Please explain your code here:</u>\n",
    "\n",
    "At the first, I calld the rotation function wich I did above then I created an empty list for points after the rotation and used a for loop to take each point and multiply it by the rotation matrix ."
   ]
  },
  {
   "cell_type": "markdown",
   "metadata": {
    "metadata": {
     "deletable": false,
     "editable": false,
     "trusted": true
    }
   },
   "source": [
    "## Quaternions\n",
    "\n",
    "In slides to lecture Nr. 3 (slide 31 and following) there is lot of theory on quaternions. The main idea is that we can use them to define a rotation along an axes `r` by an angle `alpha`."
   ]
  },
  {
   "cell_type": "code",
   "execution_count": null,
   "metadata": {
    "metadata": {
     "deletable": false,
     "editable": true,
     "trusted": true
    }
   },
   "outputs": [],
   "source": [
    "from numpy import *;\n",
    "import numpy as np;\n",
    "def rot_quat(alpha, r):\n",
    "    # Please create a quaternion from the rotation axis r and angle alpha. Expected output is a array R^4. The quaternion q is defined on slide ~48 from the third lecture.\n",
    "    \n",
    "    ### BEGIN SOLUTION\n",
    "\n",
    "    a=cos(alpha/2)\n",
    "    b=sin(alpha/2)*r[0]\n",
    "    c=sin(alpha/2)*r[1]\n",
    "    d=sin(alpha/2)*r[2]\n",
    "    quaternion=np.array([a,b,c,d])\n",
    "  \n",
    "    return quaternion\n",
    "    \n",
    "    ### END SOLUTION\n",
    "   \n",
    "    raise NotImplementedError()\n",
    "    "
   ]
  },
  {
   "cell_type": "code",
   "execution_count": null,
   "metadata": {
    "metadata": {
     "deletable": false,
     "editable": false,
     "trusted": true
    }
   },
   "outputs": [],
   "source": [
    "\n",
    "assert np.array_equal(rot_quat(np.radians(0), np.array((1,0,0))),\n",
    "                      np.array([ 1.,  0.,  0.,  0.]))\n",
    "assert np.array_equal(rot_quat(np.radians(180), np.array((1,1,1))).astype(int),\n",
    "                      np.array([  0,   1,   1,   1,]))\n",
    "\n",
    "assert np.array_equal(rot_quat(np.radians(180), np.array((1,0,1))).astype(int),\n",
    "                      np.array([  0,   1,   0,   1,]))\n",
    "assert np.array_equal(rot_quat(np.radians(180), np.array((1,0,1))).astype(int),\n",
    "                      np.array([  0,   1,   0,   1,]))\n"
   ]
  },
  {
   "cell_type": "markdown",
   "metadata": {
    "metadata": {
     "deletable": false,
     "editable": true,
     "trusted": true
    }
   },
   "source": [
    "<u>Please explain the advantage of quaternions compared to other rotation representations:</u>\n",
    "\n",
    "SOME SENTENCES\n",
    "Quaternions can avoid gimbal lock. Only a 4-dimensional quaternion is needed to perform rotations around any vector past the origin, which is convenient, fast, and in some implementations more efficient than rotation matrices. Moreover, quaternion rotation can provide smooth interpolation."
   ]
  }
 ],
 "metadata": {
  "kernelspec": {
   "display_name": "Python 3.9 (XPython)",
   "language": "python",
   "name": "xpython"
  },
  "language_info": {
   "file_extension": ".py",
   "mimetype": "text/x-python",
   "name": "python",
   "version": "3.9.13"
  }
 },
 "nbformat": 4,
 "nbformat_minor": 4
}
