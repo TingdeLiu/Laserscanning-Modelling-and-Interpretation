{
 "cells": [
  {
   "cell_type": "markdown",
   "metadata": {
    "metadata": {
     "deletable": false,
     "editable": false,
     "trusted": true
    }
   },
   "source": [
    "# Laserscanning - Exercise 3"
   ]
  },
  {
   "cell_type": "markdown",
   "metadata": {
    "metadata": {
     "deletable": false,
     "editable": false,
     "trusted": true
    }
   },
   "source": [
    "#### Please upload the implemented solutions till <u>22.11.2022</u> to the studip folder of your group. The file should follow this format:\n",
    "##### EX03_Group_XX.ipynb (e.g. EX03_Group_04.ipynb)\n",
    "(In case you need to upload additional files, please also upload them using the same schema, e.g. EX03_Group_04.zip)"
   ]
  },
  {
   "cell_type": "markdown",
   "metadata": {
    "metadata": {
     "deletable": false,
     "editable": true,
     "trusted": true
    }
   },
   "source": []
  },
  {
   "cell_type": "markdown",
   "metadata": {
    "metadata": {
     "deletable": false,
     "editable": false,
     "trusted": true
    }
   },
   "source": [
    "# Iterative Clostest Point (ICP)\n",
    "\n",
    "ICP is an algorithm for the estimation of the transformation parameters that does not require known correspondences between the points. Given two sets of points `left` and `right` The goal of this assignment is to estimate:\n",
    "\n",
    "- Find the correspondences between the points\n",
    "- Estiamte the tranformation parameters between the two sets\n",
    "\n",
    "\n",
    "## Approach\n",
    "\n",
    "    1) Set approximate values for $R$, $s$, $t$ (here: only the rotation, as scale and translation are given)\n",
    "    2) Assign points of the `left` and `right` point cloud to each other\n",
    "    3) Compute the transformation using the correspondences from step 2\n",
    "    4) Transform the left point cloud\n",
    "    5) Compute mean squared error (MSE)\n",
    "        - Iteration: Go to line 2. until convergence \n",
    "    6) Compute final transformation"
   ]
  },
  {
   "cell_type": "markdown",
   "metadata": {
    "metadata": {
     "deletable": false,
     "editable": false,
     "trusted": true
    }
   },
   "source": [
    "### 1) Set approximate values\n",
    "\n",
    "Translation and scale are given:\n",
    "\n",
    "$s_0=1$\n",
    "\n",
    "$ t_0=\\begin{pmatrix}\n",
    "    0.6 \\\\\n",
    "    1.0 \\\\\n",
    "    -0.2\n",
    "    \\end{pmatrix}$\n",
    "    \n",
    "The initial rotation matrix $R_0$ can be approcimated by visual inspection. You may use the provided `animation` function. Optionally you may optimize approximate values by a (randomized) grid search."
   ]
  },
  {
   "cell_type": "code",
   "execution_count": 11,
   "metadata": {},
   "outputs": [
    {
     "name": "stdout",
     "output_type": "stream",
     "text": [
      "Requirement already satisfied: scikit-learn in c:\\users\\tynda\\anaconda3\\lib\\site-packages (1.0.2)\n",
      "Requirement already satisfied: threadpoolctl>=2.0.0 in c:\\users\\tynda\\anaconda3\\lib\\site-packages (from scikit-learn) (2.2.0)\n",
      "Requirement already satisfied: joblib>=0.11 in c:\\users\\tynda\\anaconda3\\lib\\site-packages (from scikit-learn) (1.1.0)\n",
      "Requirement already satisfied: scipy>=1.1.0 in c:\\users\\tynda\\anaconda3\\lib\\site-packages (from scikit-learn) (1.9.1)\n",
      "Requirement already satisfied: numpy>=1.14.6 in c:\\users\\tynda\\anaconda3\\lib\\site-packages (from scikit-learn) (1.23.4)\n"
     ]
    }
   ],
   "source": [
    "!pip install scikit-learn"
   ]
  },
  {
   "cell_type": "code",
   "execution_count": 12,
   "metadata": {
    "metadata": {
     "deletable": false,
     "editable": false,
     "trusted": true
    }
   },
   "outputs": [
    {
     "ename": "ModuleNotFoundError",
     "evalue": "No module named 'plyfile'",
     "output_type": "error",
     "traceback": [
      "\u001B[1;31m---------------------------------------------------------------------------\u001B[0m",
      "\u001B[1;31mModuleNotFoundError\u001B[0m                       Traceback (most recent call last)",
      "\u001B[1;32m~\\AppData\\Local\\Temp\\ipykernel_3512\\684757661.py\u001B[0m in \u001B[0;36m<module>\u001B[1;34m\u001B[0m\n\u001B[0;32m      2\u001B[0m \u001B[1;33m\u001B[0m\u001B[0m\n\u001B[0;32m      3\u001B[0m \u001B[1;31m#from tools import rotmat_from_quat\u001B[0m\u001B[1;33m\u001B[0m\u001B[1;33m\u001B[0m\u001B[0m\n\u001B[1;32m----> 4\u001B[1;33m \u001B[1;32mfrom\u001B[0m \u001B[0mplyfile\u001B[0m \u001B[1;32mimport\u001B[0m \u001B[0mPlyData\u001B[0m\u001B[1;33m\u001B[0m\u001B[1;33m\u001B[0m\u001B[0m\n\u001B[0m\u001B[0;32m      5\u001B[0m \u001B[1;32mfrom\u001B[0m \u001B[0msklearn\u001B[0m\u001B[1;33m.\u001B[0m\u001B[0mneighbors\u001B[0m \u001B[1;32mimport\u001B[0m \u001B[0mKDTree\u001B[0m\u001B[1;33m\u001B[0m\u001B[1;33m\u001B[0m\u001B[0m\n",
      "\u001B[1;31mModuleNotFoundError\u001B[0m: No module named 'plyfile'"
     ]
    }
   ],
   "source": [
    "import numpy as np\n",
    "\n",
    "#from tools import rotmat_from_quat\n",
    "from plyfile import PlyData\n",
    "from sklearn.neighbors import KDTree"
   ]
  },
  {
   "cell_type": "code",
   "execution_count": 7,
   "metadata": {
    "metadata": {
     "deletable": false,
     "editable": false,
     "trusted": true
    }
   },
   "outputs": [
    {
     "ename": "NameError",
     "evalue": "name 'PlyData' is not defined",
     "output_type": "error",
     "traceback": [
      "\u001B[1;31m---------------------------------------------------------------------------\u001B[0m",
      "\u001B[1;31mNameError\u001B[0m                                 Traceback (most recent call last)",
      "\u001B[1;32m~\\AppData\\Local\\Temp\\ipykernel_3512\\2007200441.py\u001B[0m in \u001B[0;36m<module>\u001B[1;34m\u001B[0m\n\u001B[0;32m     20\u001B[0m \u001B[1;33m\u001B[0m\u001B[0m\n\u001B[0;32m     21\u001B[0m \u001B[1;31m# load data\u001B[0m\u001B[1;33m\u001B[0m\u001B[1;33m\u001B[0m\u001B[0m\n\u001B[1;32m---> 22\u001B[1;33m \u001B[0m_data\u001B[0m \u001B[1;33m=\u001B[0m \u001B[0mPlyData\u001B[0m\u001B[1;33m.\u001B[0m\u001B[0mread\u001B[0m\u001B[1;33m(\u001B[0m\u001B[1;34m'tango5cm.ply'\u001B[0m\u001B[1;33m)\u001B[0m\u001B[1;33m.\u001B[0m\u001B[0melements\u001B[0m\u001B[1;33m[\u001B[0m\u001B[1;36m0\u001B[0m\u001B[1;33m]\u001B[0m\u001B[1;33m.\u001B[0m\u001B[0mdata\u001B[0m\u001B[1;33m\u001B[0m\u001B[1;33m\u001B[0m\u001B[0m\n\u001B[0m\u001B[0;32m     23\u001B[0m \u001B[0mleft\u001B[0m \u001B[1;33m=\u001B[0m \u001B[0mnp\u001B[0m\u001B[1;33m.\u001B[0m\u001B[0mstack\u001B[0m\u001B[1;33m(\u001B[0m\u001B[1;33m(\u001B[0m\u001B[0m_data\u001B[0m\u001B[1;33m[\u001B[0m\u001B[1;34m'x'\u001B[0m\u001B[1;33m]\u001B[0m\u001B[1;33m,\u001B[0m \u001B[0m_data\u001B[0m\u001B[1;33m[\u001B[0m\u001B[1;34m'y'\u001B[0m\u001B[1;33m]\u001B[0m\u001B[1;33m,\u001B[0m \u001B[0m_data\u001B[0m\u001B[1;33m[\u001B[0m\u001B[1;34m'z'\u001B[0m\u001B[1;33m]\u001B[0m\u001B[1;33m)\u001B[0m\u001B[1;33m,\u001B[0m \u001B[0maxis\u001B[0m\u001B[1;33m=\u001B[0m\u001B[1;36m1\u001B[0m\u001B[1;33m)\u001B[0m\u001B[1;33m\u001B[0m\u001B[1;33m\u001B[0m\u001B[0m\n\u001B[0;32m     24\u001B[0m \u001B[0m_data\u001B[0m \u001B[1;33m=\u001B[0m \u001B[0mPlyData\u001B[0m\u001B[1;33m.\u001B[0m\u001B[0mread\u001B[0m\u001B[1;33m(\u001B[0m\u001B[1;34m'riegl5cm.ply'\u001B[0m\u001B[1;33m)\u001B[0m\u001B[1;33m.\u001B[0m\u001B[0melements\u001B[0m\u001B[1;33m[\u001B[0m\u001B[1;36m0\u001B[0m\u001B[1;33m]\u001B[0m\u001B[1;33m.\u001B[0m\u001B[0mdata\u001B[0m\u001B[1;33m\u001B[0m\u001B[1;33m\u001B[0m\u001B[0m\n",
      "\u001B[1;31mNameError\u001B[0m: name 'PlyData' is not defined"
     ]
    }
   ],
   "source": [
    "visualization = True  # Use this flag to deactive the visualization\n",
    "if visualization:\n",
    "    import ipyvolume as ipv\n",
    "\n",
    "def animate(lefts_array, right):\n",
    "    lefts_array = np.stack(lefts_array)\n",
    "    ipv.figure()\n",
    "   \n",
    "    if len(lefts_array.shape) == 3 : \n",
    "        sl = ipv.scatter(lefts_array[:,:,0], lefts_array[:,:,1], lefts_array[:,:,2], size=1, marker='sphere',color='green', color_selected='white')\n",
    "    elif len(lefts_array.shape) == 2:\n",
    "        sl = ipv.scatter(lefts_array[:,0], lefts_array[:,1], lefts_array[:,2], size=1, marker='sphere',color='green', color_selected='white')\n",
    "    else:\n",
    "        raise UnkownError(\"Unsupported state.\")\n",
    "        \n",
    "    ipv.scatter(right[:,0], right[:,1], right[:,2],  size=1, marker='sphere',color='red')\n",
    "    ipv.animation_control(sl) # shows controls for animation controls\n",
    "    ipv.show()\n",
    "\n",
    "\n",
    "# load data\n",
    "_data = PlyData.read('tango5cm.ply').elements[0].data\n",
    "left = np.stack((_data['x'], _data['y'], _data['z']), axis=1)\n",
    "_data = PlyData.read('riegl5cm.ply').elements[0].data\n",
    "right = np.stack((_data['x'], _data['y'], _data['z']), axis=1) \n",
    "\n",
    "print(\"Left points count: {}\".format(left.shape[0]))\n",
    "print(\"Right points count: {}\".format(right.shape[0]))\n",
    "\n",
    "# example visualization\n",
    "if visualization:\n",
    "    animate((left), right)\n",
    "    \n",
    "    # The first paramter of the animate function can be a list of points list. \n",
    "    # In this animation is generated between the point lits. \n",
    "    # mv = np.array([4, 4, 4])\n",
    "    # animate((left, left - mv, left + mv*0.5), right)"
   ]
  },
  {
   "cell_type": "markdown",
   "metadata": {
    "metadata": {
     "deletable": false,
     "editable": false,
     "trusted": true
    }
   },
   "source": [
    "### 2) Estimate Correspondences\n",
    "We assume that the respective closest points (euclidean distance) in the 'left' and 'right' point cloud are the corrensponding ones. The usage of a KDTree data structure can improve the implementation in terms of computational speed. Please read this [documentation](https://scikit-learn.org/stable/modules/generated/sklearn.neighbors.KDTree.html#sklearn.neighbors.KDTree.two_point_correlation).\n",
    "Feel free to use another correspndence estimation strategie presented in the lecture. Ignore the automated test in that case."
   ]
  },
  {
   "cell_type": "code",
   "execution_count": 8,
   "metadata": {
    "metadata": {
     "deletable": false,
     "editable": true,
     "trusted": true
    }
   },
   "outputs": [],
   "source": [
    "def sort_by_corrspondence(left, right):\n",
    "    # This method takes two lists of points and return a subset of the right list with following properties:\n",
    "    # return right sublist with same length as left list and the points left[i] and right_sublist[i] are the closest points.\n",
    "    ### BEGIN SOLUTION\n",
    "    list=[]\n",
    "    for i in range(len(left)):\n",
    "        Y = right[i]\n",
    "   #     print(Y.reshape(1,3))\n",
    "    \n",
    "        X = left  # 10 points in 3 dimensions\n",
    "        tree = KDTree(X, leaf_size=3) \n",
    "        dist, ind = tree.query(Y.reshape(1,3),k=3)\n",
    "       # ind =tree.two_point_correlation(X, Y)\n",
    "  #      print(ind)  # indices of 3 closest neighbors\n",
    "        list.append(right[ind[0][0]])\n",
    "\n",
    "\n",
    "  #  print(list)  # distances to 3 closest neighbors\n",
    "\n",
    "    return (list)\n",
    "    ### END SOLUTION\n",
    "    \n",
    "    #raise NotImplementedError()"
   ]
  },
  {
   "cell_type": "markdown",
   "metadata": {
    "metadata": {
     "deletable": false,
     "editable": true,
     "trusted": true
    }
   },
   "source": [
    "<u>Please explain your code here:</u>\n",
    "\n",
    "SOME SENTENCES\n",
    "We take the nearest points (Euclidean distance) in each of the \"left\" and \"right\" point clouds as the corrensponding ones. we make the \"left\" point cloud a KDTree data structure. then we traverse all the points in the \"right\" point cloud so that each point can find a match in the \"left\" point cloud. Finally we put all the matching points into the list and return."
   ]
  },
  {
   "cell_type": "markdown",
   "metadata": {
    "metadata": {
     "deletable": false,
     "editable": false,
     "trusted": true
    }
   },
   "source": [
    "In the following cell you can test your implementation and can compare it to correct resulting values."
   ]
  },
  {
   "cell_type": "code",
   "execution_count": null,
   "metadata": {
    "metadata": {
     "deletable": false,
     "editable": false,
     "trusted": true
    }
   },
   "outputs": [],
   "source": [
    "def test_cor():\n",
    "    tpl = np.array([[0,0,1],\n",
    "                    [0,1,0],\n",
    "                    [1,0,0]])\n",
    "    tpr = np.array([[0,0.5,-0.5],\n",
    "                    [0,0,1.5],\n",
    "                    [0.1,0,0]])\n",
    "    sr = sort_by_corrspondence(tpl,tpr)\n",
    "    assert all(tpr[0] == sr[1]) and all(tpr[1] == sr[0]) and all(tpr[2] == sr[2])\n",
    "test_cor()"
   ]
  },
  {
   "cell_type": "markdown",
   "metadata": {
    "metadata": {
     "deletable": false,
     "editable": false,
     "trusted": true
    }
   },
   "source": [
    "### 3) - 6) Implementation of the ICP\n",
    "Implement a function for the ICP which takes the parameters `icp(s_0, t_0, R_0, left, right):` and returns `s, t, R,` the final estimated transformation parameters and a list of mean squared error for each iteration step. In order to implement this you might need to re-use some function from previous assignments."
   ]
  },
  {
   "cell_type": "code",
   "execution_count": null,
   "metadata": {
    "metadata": {
     "deletable": false,
     "editable": true,
     "trusted": true
    }
   },
   "outputs": [],
   "source": [
    "#Use this area to copy paste or import your code from earlier exercises\n",
    "### BEGIN SOLUTION\n",
    "from numpy import *;\n",
    "import numpy as np;\n",
    "\n",
    "def load_ply(filename):\n",
    "    list1=[]\n",
    "    list2=[]\n",
    "\n",
    "    with open(filename, 'r') as ply_file: \n",
    "        for line in ply_file:\n",
    "            line=line.strip('\\n')\n",
    "            line=line.split(' ')\n",
    "           \n",
    "            if '' in line:\n",
    "                line.pop()\n",
    "            else:\n",
    "                line=line\n",
    "            list1.append(line)\n",
    "        list2=list1[list1.index(['end_header'])+1:]\n",
    "        points=np.array(list2)\n",
    "        points=points.astype(np.float64)\n",
    "       \n",
    "        return points\n",
    "def sum_S(left_list, right_list):\n",
    "    ### BEGIN SOLUTION\n",
    "    \n",
    "    s_x=left_list[0]*right_list[0]\n",
    "    s_y=left_list[1]*right_list[1]\n",
    "    s_z=left_list[2]*right_list[2]\n",
    "    b=s_x+s_y+s_z\n",
    "\n",
    "    return b\n",
    "\n",
    "def compose_S(left, right):\n",
    "    ### BEGIN SOLUTION\n",
    "    s_xx=0\n",
    "    s_yy=0\n",
    "    s_zz=0\n",
    "    s_xy=0\n",
    "    s_xz=0\n",
    "    s_yx=0\n",
    "    s_yz=0\n",
    "    s_zx=0\n",
    "    s_zy=0\n",
    "    for i in range(len(left)):\n",
    "        m_xx=left[i][0]*right[i][0]\n",
    "        m_yy=left[i][1]*right[i][1]\n",
    "        m_zz=left[i][2]*right[i][2]\n",
    "        m_xy=left[i][0]*right[i][1]\n",
    "        m_xz=left[i][0]*right[i][2]\n",
    "        m_yx=left[i][1]*right[i][0]\n",
    "        m_yz=left[i][1]*right[i][2]\n",
    "        m_zx=left[i][2]*right[i][0]\n",
    "        m_zy=left[i][2]*right[i][1]\n",
    "        \n",
    "        s_xx+=m_xx\n",
    "        s_yy+=m_yy\n",
    "        s_zz+=m_zz\n",
    "        s_xy+=m_xy\n",
    "        s_xz+=m_xz\n",
    "        s_yx+=m_yx\n",
    "        s_yz+=m_yz\n",
    "        s_zx+=m_zx\n",
    "        s_zy+=m_zy\n",
    "        pass\n",
    "\n",
    "    S=array([[s_xx+s_yy+s_zz,s_yz-s_zy,s_zx-s_xz,s_xy-s_yx],\n",
    "        [s_yz-s_zy,s_xx-s_yy-s_zz,s_xy+s_yx,s_zx+s_xz],\n",
    "        [s_zx-s_xz,s_xy+s_yx,-s_xx+s_yy-s_zz,s_yz+s_zy],\n",
    "        [s_xy-s_yx,s_zx+s_xz,s_yz+s_zy,-s_xx-s_yy+s_zz]])\n",
    "    return S\n",
    "\n",
    "def q_from_S(S):\n",
    "    # take a look at numpy.linalg.eig() function for this task\n",
    "    ### BEGIN SOLUTION\n",
    "    \n",
    "    c = np.linalg.eig(S)\n",
    "    \n",
    "    ew=c[0]\n",
    "    l=list(ew)  \n",
    "    m=max(l)\n",
    "    num=l.index(m)\n",
    "    d=c[1]\n",
    "    q=d[:,num]\n",
    "\n",
    "    return q    \n",
    "\n",
    "def calc_scale(left, right):\n",
    "    ### BEGIN SOLUTION\n",
    "    import math as m\n",
    "    r_prime=[]\n",
    "    l_prime=[]\n",
    "    l_com=np.mean(left,axis=0)\n",
    "    r_com=np.mean(right,axis=0)\n",
    "    for i in right:\n",
    "        r_prime.append(np.power(np.linalg.norm(i-r_com),2))\n",
    "    for j in left:\n",
    "        l_prime.append(np.power(np.linalg.norm(j-l_com),2))\n",
    "    r_sum=np.sum(r_prime)\n",
    "    l_sum=np.sum(l_prime)\n",
    "    s=m.sqrt(r_sum/l_sum)\n",
    "\n",
    "    return s\n",
    "\n",
    "def calc_t(l_com, r_com, s, R):\n",
    "    ### BEGIN SOLUTION\n",
    "    import numpy as np\n",
    "    \n",
    "    t=r_com-s*np.dot(R,l_com)\n",
    "    \n",
    "\n",
    "    return t\n",
    "### END SOLUTION\n",
    "\n",
    "#raise NotImplementedError()"
   ]
  },
  {
   "cell_type": "code",
   "execution_count": null,
   "metadata": {
    "metadata": {
     "deletable": false,
     "editable": true,
     "trusted": true
    }
   },
   "outputs": [],
   "source": [
    "# implementation of the icp algorithm\n",
    "def icp(s, t, R, left, right):\n",
    "    left_states = [left]\n",
    "    for i in range(len(left)):\n",
    "        left_trans = s*np.dot(R, left[i].transpose()).transpose() + t\n",
    "        left_states.append(left_trans) # if you store the intermidiate states of the left list, it will be animated.\n",
    "    \n",
    "    max_iter = 20\n",
    "    mse = []\n",
    "    error = 0\n",
    "    ### BEGIN SOLUTION\n",
    "    from tools import rotmat_from_quat\n",
    "    l_com=np.mean(left,axis=0)\n",
    "    r_com=np.mean(right,axis=0)\n",
    "    for j in range(max_iter):\n",
    "        sr = sort_by_corrspondence(left, right)\n",
    "        S = compose_S(sr, right)\n",
    "        q = q_from_S(S)\n",
    "        R = rotmat_from_quat(q)\n",
    "        s = calc_scale(left, right)\n",
    "        t = calc_t(l_com, r_com, s, R)\n",
    "\n",
    "        re = s*np.dot(R,left[j])+t\n",
    "\n",
    "        er = np.power(np.linalg.norm(re-right[j]),2)\n",
    "        mse.append(er)\n",
    "\n",
    "        if error<er:\n",
    "            error=er\n",
    "\n",
    "            R = R\n",
    "            s = s\n",
    "            t = t\n",
    "    \n",
    "    ### END SOLUTION\n",
    "    \n",
    "    #raise NotImplementedError()\n",
    "    \n",
    "    if visualization:\n",
    "        animate(left_states, right)\n",
    "    \n",
    "    return (s, R, t), mse"
   ]
  },
  {
   "cell_type": "markdown",
   "metadata": {
    "metadata": {
     "deletable": false,
     "editable": false,
     "trusted": true
    }
   },
   "source": [
    "## Application\n",
    "\n",
    "- Use the given 3D point clouds `tango5cm.ply` (left) and `riegl5cm.ply` (right, reference) as input data for ICP (downloadable from StudIP)\n",
    "- Determine the final transformation parameters using your ICP implementation\n",
    "- Plot the mean squared errors (MSE) of the ICP iterations\n",
    "- Explain the whole procedure (ICP) and findings in your own words (last cell)!"
   ]
  },
  {
   "cell_type": "code",
   "execution_count": 9,
   "metadata": {
    "metadata": {
     "deletable": false,
     "editable": true,
     "trusted": true
    },
    "scrolled": false
   },
   "outputs": [
    {
     "ename": "NameError",
     "evalue": "name 'load_ply' is not defined",
     "output_type": "error",
     "traceback": [
      "\u001B[1;31m---------------------------------------------------------------------------\u001B[0m",
      "\u001B[1;31mNameError\u001B[0m                                 Traceback (most recent call last)",
      "\u001B[1;32m~\\AppData\\Local\\Temp\\ipykernel_3512\\3169243884.py\u001B[0m in \u001B[0;36m<module>\u001B[1;34m\u001B[0m\n\u001B[0;32m      3\u001B[0m \u001B[1;31m### BEGIN SOLUTION\u001B[0m\u001B[1;33m\u001B[0m\u001B[1;33m\u001B[0m\u001B[0m\n\u001B[0;32m      4\u001B[0m \u001B[1;33m\u001B[0m\u001B[0m\n\u001B[1;32m----> 5\u001B[1;33m \u001B[0mleft_\u001B[0m \u001B[1;33m=\u001B[0m \u001B[0mload_ply\u001B[0m\u001B[1;33m(\u001B[0m\u001B[1;34m'tango5cm.ply'\u001B[0m\u001B[1;33m)\u001B[0m\u001B[1;33m\u001B[0m\u001B[1;33m\u001B[0m\u001B[0m\n\u001B[0m\u001B[0;32m      6\u001B[0m \u001B[0mright_\u001B[0m \u001B[1;33m=\u001B[0m \u001B[0mload_ply\u001B[0m\u001B[1;33m(\u001B[0m\u001B[1;34m'riegl5cm.ply'\u001B[0m\u001B[1;33m)\u001B[0m\u001B[1;33m\u001B[0m\u001B[1;33m\u001B[0m\u001B[0m\n\u001B[0;32m      7\u001B[0m \u001B[0mleft\u001B[0m\u001B[1;33m=\u001B[0m\u001B[0mleft_\u001B[0m\u001B[1;33m[\u001B[0m\u001B[1;33m:\u001B[0m\u001B[1;33m,\u001B[0m\u001B[1;36m0\u001B[0m\u001B[1;33m:\u001B[0m\u001B[1;36m3\u001B[0m\u001B[1;33m]\u001B[0m\u001B[1;33m\u001B[0m\u001B[1;33m\u001B[0m\u001B[0m\n",
      "\u001B[1;31mNameError\u001B[0m: name 'load_ply' is not defined"
     ]
    }
   ],
   "source": [
    "# define your inital scale, translation (given at the beginning) and approximate rotation matrix\n",
    "\n",
    "### BEGIN SOLUTION\n",
    "\n",
    "left_ = load_ply('tango5cm.ply')\n",
    "right_ = load_ply('riegl5cm.ply')\n",
    "left=left_[:,0:3]\n",
    "right=right_[:,0:3]\n",
    "s = 1\n",
    "t = np.array([ 0.6,   1.0,   -0.2])\n",
    "R = np.array([[ 0,  -1,  0],\n",
    "             [ 1,  0,  0],\n",
    "             [ 0, 0, 1]])\n",
    "\n",
    "### END SOLUTION\n",
    "\n",
    "# raise NotImplementedError()\n",
    "\n",
    "(s, t, R), mse = icp(s, t, R, left, right)\n",
    "\n",
    "%matplotlib inline\n",
    "\n",
    "import matplotlib.pyplot as plt\n",
    "\n",
    "plt.plot(mse)"
   ]
  },
  {
   "cell_type": "markdown",
   "metadata": {
    "metadata": {
     "deletable": false,
     "editable": true,
     "trusted": true
    }
   },
   "source": [
    "<u>Please explain your code here:</u>\n",
    "\n",
    "SOME SENTENCES\n",
    "\n"
   ]
  },
  {
   "cell_type": "markdown",
   "metadata": {},
   "source": [
    "ICP is one of the widely used algorithms in aligning three dimensional models given an initial guess of the rigid transformation required.\n",
    "The ICP algorithm steps are: For each point in the source point cloud, match the closest point in the reference point cloud. Estimate the combination of rotation and translation using a root mean square point to point distance metric minimization technique which will best align each source point to its match found in the previous step. This step may also involve weighting points and rejecting outliers prior to alignment.Transform the source points using the obtained transformation.Iterate (re-associate the points, and so on)."
   ]
  }
 ],
 "metadata": {
  "kernelspec": {
   "display_name": "Python 3 (ipykernel)",
   "language": "python",
   "name": "python3"
  },
  "language_info": {
   "codemirror_mode": {
    "name": "ipython",
    "version": 3
   },
   "file_extension": ".py",
   "mimetype": "text/x-python",
   "name": "python",
   "nbconvert_exporter": "python",
   "pygments_lexer": "ipython3",
   "version": "3.9.13"
  }
 },
 "nbformat": 4,
 "nbformat_minor": 2
}
